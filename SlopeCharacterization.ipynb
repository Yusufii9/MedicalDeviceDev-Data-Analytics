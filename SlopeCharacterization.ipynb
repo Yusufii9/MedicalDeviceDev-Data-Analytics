{
 "cells": [
  {
   "cell_type": "code",
   "execution_count": 1,
   "id": "d24b3495",
   "metadata": {},
   "outputs": [],
   "source": [
    "import pandas as pd\n",
    "import warnings\n",
    "\n",
    "warnings.filterwarnings('ignore')"
   ]
  },
  {
   "cell_type": "code",
   "execution_count": 51,
   "id": "c43b1ac8",
   "metadata": {},
   "outputs": [],
   "source": [
    "def get_slope_range(analyte):\n",
    "    slope_range_dict = {'Cl':[-55,-35],\n",
    "                        'K':[48,61],\n",
    "                        'Ca':[24,34],\n",
    "                        'pH':[-59,-65]}\n",
    "    \n",
    "    return slope_range_dict[analyte]\n",
    "\n",
    "def get_sensor_dimensions(slope_df, analyte, fluid_name, sensor_type):\n",
    "    \n",
    "    slope_range = get_slope_range(analyte)\n",
    "    \n",
    "    slope_df = slope_df[slope_df['Analyte']==analyte]\n",
    "    \n",
    "    slope_df = slope_df[slope_df['HasSlope']=='Yes']\n",
    "    \n",
    "    slope_df_subset = slope_df[(slope_df['Name']==fluid_name)&(slope_df['SensorType']==sensor_type)]\n",
    "    \n",
    "    slope_df_subset['Timestamp'] = pd.to_datetime(slope_df_subset['Timestamp'])\n",
    "    grouped = slope_df_subset.groupby(['POTArray','Analyte','Channel'])\n",
    "    slope_df_subset['WeekNumber'] = grouped['Timestamp'].transform(lambda x: x.dt.to_period('W').rank(method='dense'))\n",
    "    \n",
    "    slope_df_subset = slope_df_subset.groupby(['POTArray','Analyte','Channel','WeekNumber'])['Slope'].median().reset_index()\n",
    "    \n",
    "    slope_df_subset['WithinRange'] = slope_df_subset['Slope'].apply(lambda x: True if x>=slope_range[0] and x<=slope_range[1] else False)\n",
    "    \n",
    "    slope_df_subset = slope_df_subset.groupby(['POTArray','Channel'])['WithinRange'].agg(list).reset_index()\n",
    "    \n",
    "    slope_df_subset['SlopeDecay'] = slope_df_subset.apply(lambda x: 'Ideal' if set(x['WithinRange'])=={True} else ('Include' if set(x['WithinRange'])=={True,False} else 'Exclude'),\n",
    "                                                          axis=1)\n",
    "    \n",
    "    sensor_dimension_df = slope_df.groupby(['POTArray','Channel'])[['L1WetH','L2Rad','Thickness']].mean().reset_index()[['POTArray','Channel','L1WetH','L2Rad','Thickness']]\n",
    "    \n",
    "    sensor_dimension_df_processed = pd.merge(slope_df_subset,sensor_dimension_df, on=['POTArray','Channel'])\n",
    "    \n",
    "    return sensor_dimension_df_processed"
   ]
  },
  {
   "cell_type": "code",
   "execution_count": 52,
   "id": "9400b738",
   "metadata": {},
   "outputs": [],
   "source": [
    "slope_df = pd.read_csv('ViewMEGAResultsDiff.csv')"
   ]
  },
  {
   "cell_type": "code",
   "execution_count": 62,
   "id": "aa60b47d",
   "metadata": {},
   "outputs": [],
   "source": [
    "df = get_sensor_dimensions(slope_df,\n",
    "                          'Ca',\n",
    "                          'AQC2',\n",
    "                          'POT')"
   ]
  },
  {
   "cell_type": "code",
   "execution_count": 66,
   "id": "95a8589b",
   "metadata": {},
   "outputs": [
    {
     "data": {
      "text/html": [
       "<div>\n",
       "<style scoped>\n",
       "    .dataframe tbody tr th:only-of-type {\n",
       "        vertical-align: middle;\n",
       "    }\n",
       "\n",
       "    .dataframe tbody tr th {\n",
       "        vertical-align: top;\n",
       "    }\n",
       "\n",
       "    .dataframe thead th {\n",
       "        text-align: right;\n",
       "    }\n",
       "</style>\n",
       "<table border=\"1\" class=\"dataframe\">\n",
       "  <thead>\n",
       "    <tr style=\"text-align: right;\">\n",
       "      <th></th>\n",
       "      <th>SlopeDecay</th>\n",
       "      <th>L1WetH</th>\n",
       "      <th>L2Rad</th>\n",
       "      <th>Thickness</th>\n",
       "    </tr>\n",
       "  </thead>\n",
       "  <tbody>\n",
       "    <tr>\n",
       "      <th>0</th>\n",
       "      <td>Exclude</td>\n",
       "      <td>191.809510</td>\n",
       "      <td>808.099326</td>\n",
       "      <td>70.929677</td>\n",
       "    </tr>\n",
       "    <tr>\n",
       "      <th>1</th>\n",
       "      <td>Ideal</td>\n",
       "      <td>155.019000</td>\n",
       "      <td>880.757500</td>\n",
       "      <td>79.233190</td>\n",
       "    </tr>\n",
       "    <tr>\n",
       "      <th>2</th>\n",
       "      <td>Include</td>\n",
       "      <td>172.439176</td>\n",
       "      <td>860.970736</td>\n",
       "      <td>73.465122</td>\n",
       "    </tr>\n",
       "  </tbody>\n",
       "</table>\n",
       "</div>"
      ],
      "text/plain": [
       "  SlopeDecay      L1WetH       L2Rad  Thickness\n",
       "0    Exclude  191.809510  808.099326  70.929677\n",
       "1      Ideal  155.019000  880.757500  79.233190\n",
       "2    Include  172.439176  860.970736  73.465122"
      ]
     },
     "execution_count": 66,
     "metadata": {},
     "output_type": "execute_result"
    }
   ],
   "source": [
    "df.groupby(['SlopeDecay'])['L1WetH','L2Rad','Thickness'].mean().reset_index()"
   ]
  },
  {
   "cell_type": "code",
   "execution_count": null,
   "id": "56851b37",
   "metadata": {},
   "outputs": [],
   "source": []
  }
 ],
 "metadata": {
  "kernelspec": {
   "display_name": "Python 3 (ipykernel)",
   "language": "python",
   "name": "python3"
  },
  "language_info": {
   "codemirror_mode": {
    "name": "ipython",
    "version": 3
   },
   "file_extension": ".py",
   "mimetype": "text/x-python",
   "name": "python",
   "nbconvert_exporter": "python",
   "pygments_lexer": "ipython3",
   "version": "3.9.7"
  }
 },
 "nbformat": 4,
 "nbformat_minor": 5
}
